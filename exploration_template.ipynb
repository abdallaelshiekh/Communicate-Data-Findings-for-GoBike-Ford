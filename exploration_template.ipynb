{
 "cells": [
  {
   "cell_type": "markdown",
   "metadata": {
    "slideshow": {
     "slide_type": "slide"
    }
   },
   "source": [
    "# 2019 Ford GoBike System Data Exploration and Visualization\n",
    "## by (Abdalla Elshiekh)\n",
    "\n",
    "## Preliminary Wrangling\n",
    "\n",
    "> This document explores the Ford GoBike's trip data for public containing more than 2500000 bike rides in 2019.\n",
    "\n"
   ]
  },
  {
   "cell_type": "code",
   "execution_count": 1,
   "metadata": {
    "slideshow": {
     "slide_type": "skip"
    }
   },
   "outputs": [],
   "source": [
    "# import all packages and set plots to be embedded inline\n",
    "import numpy as np\n",
    "import pandas as pd\n",
    "import matplotlib.pyplot as plt\n",
    "import seaborn as sb\n",
    "import glob\n",
    "import datetime\n",
    "%matplotlib inline"
   ]
  },
  {
   "cell_type": "markdown",
   "metadata": {
    "slideshow": {
     "slide_type": "slide"
    }
   },
   "source": [
    ">  ## Part 1 - Gathering Data"
   ]
  },
  {
   "cell_type": "code",
   "execution_count": 2,
   "metadata": {
    "slideshow": {
     "slide_type": "subslide"
    }
   },
   "outputs": [
    {
     "name": "stderr",
     "output_type": "stream",
     "text": [
      "D:\\abdalla\\abdalla\\Anaconda3\\lib\\site-packages\\IPython\\core\\interactiveshell.py:3051: DtypeWarning: Columns (14) have mixed types. Specify dtype option on import or set low_memory=False.\n",
      "  interactivity=interactivity, compiler=compiler, result=result)\n",
      "D:\\abdalla\\abdalla\\Anaconda3\\lib\\site-packages\\IPython\\core\\interactiveshell.py:3051: DtypeWarning: Columns (13,14) have mixed types. Specify dtype option on import or set low_memory=False.\n",
      "  interactivity=interactivity, compiler=compiler, result=result)\n",
      "D:\\abdalla\\abdalla\\Anaconda3\\lib\\site-packages\\IPython\\core\\interactiveshell.py:3051: DtypeWarning: Columns (13) have mixed types. Specify dtype option on import or set low_memory=False.\n",
      "  interactivity=interactivity, compiler=compiler, result=result)\n"
     ]
    }
   ],
   "source": [
    "# Data are in many csv files so i have to combine these in one data frame .\n",
    "path = r'.\\\\data\\\\' \n",
    "all_files = glob.glob(path + \"/*.csv\")\n",
    "li = []\n",
    "for filename in all_files:\n",
    "    df = pd.read_csv(filename,index_col=None,header=0)\n",
    "    li.append(df)\n",
    "all_df = pd.concat(li,axis=0,ignore_index=True,sort=False)\n",
    "all_df.to_csv('master_file.csv',index=False)"
   ]
  },
  {
   "cell_type": "code",
   "execution_count": 3,
   "metadata": {
    "slideshow": {
     "slide_type": "subslide"
    }
   },
   "outputs": [],
   "source": [
    "# load the dataset\n",
    "df = pd.read_csv('master_file.csv')"
   ]
  },
  {
   "cell_type": "markdown",
   "metadata": {
    "slideshow": {
     "slide_type": "slide"
    }
   },
   "source": [
    "> ## Part 2 - Assessing Data"
   ]
  },
  {
   "cell_type": "code",
   "execution_count": 4,
   "metadata": {
    "slideshow": {
     "slide_type": "subslide"
    }
   },
   "outputs": [
    {
     "data": {
      "text/html": [
       "<div>\n",
       "<style scoped>\n",
       "    .dataframe tbody tr th:only-of-type {\n",
       "        vertical-align: middle;\n",
       "    }\n",
       "\n",
       "    .dataframe tbody tr th {\n",
       "        vertical-align: top;\n",
       "    }\n",
       "\n",
       "    .dataframe thead th {\n",
       "        text-align: right;\n",
       "    }\n",
       "</style>\n",
       "<table border=\"1\" class=\"dataframe\">\n",
       "  <thead>\n",
       "    <tr style=\"text-align: right;\">\n",
       "      <th></th>\n",
       "      <th>duration_sec</th>\n",
       "      <th>start_time</th>\n",
       "      <th>end_time</th>\n",
       "      <th>start_station_id</th>\n",
       "      <th>start_station_name</th>\n",
       "      <th>start_station_latitude</th>\n",
       "      <th>start_station_longitude</th>\n",
       "      <th>end_station_id</th>\n",
       "      <th>end_station_name</th>\n",
       "      <th>end_station_latitude</th>\n",
       "      <th>end_station_longitude</th>\n",
       "      <th>bike_id</th>\n",
       "      <th>user_type</th>\n",
       "      <th>bike_share_for_all_trip</th>\n",
       "      <th>rental_access_method</th>\n",
       "    </tr>\n",
       "  </thead>\n",
       "  <tbody>\n",
       "    <tr>\n",
       "      <th>0</th>\n",
       "      <td>80825</td>\n",
       "      <td>2019-01-31 17:57:44.6130</td>\n",
       "      <td>2019-02-01 16:24:49.8640</td>\n",
       "      <td>229.0</td>\n",
       "      <td>Foothill Blvd at 42nd Ave</td>\n",
       "      <td>37.775745</td>\n",
       "      <td>-122.213037</td>\n",
       "      <td>196.0</td>\n",
       "      <td>Grand Ave at Perkins St</td>\n",
       "      <td>37.808894</td>\n",
       "      <td>-122.256460</td>\n",
       "      <td>4861</td>\n",
       "      <td>Subscriber</td>\n",
       "      <td>No</td>\n",
       "      <td>NaN</td>\n",
       "    </tr>\n",
       "    <tr>\n",
       "      <th>1</th>\n",
       "      <td>65900</td>\n",
       "      <td>2019-01-31 20:58:33.8860</td>\n",
       "      <td>2019-02-01 15:16:54.1730</td>\n",
       "      <td>4.0</td>\n",
       "      <td>Cyril Magnin St at Ellis St</td>\n",
       "      <td>37.785881</td>\n",
       "      <td>-122.408915</td>\n",
       "      <td>134.0</td>\n",
       "      <td>Valencia St at 24th St</td>\n",
       "      <td>37.752428</td>\n",
       "      <td>-122.420628</td>\n",
       "      <td>5506</td>\n",
       "      <td>Subscriber</td>\n",
       "      <td>No</td>\n",
       "      <td>NaN</td>\n",
       "    </tr>\n",
       "    <tr>\n",
       "      <th>2</th>\n",
       "      <td>62633</td>\n",
       "      <td>2019-01-31 18:06:52.9240</td>\n",
       "      <td>2019-02-01 11:30:46.5300</td>\n",
       "      <td>245.0</td>\n",
       "      <td>Downtown Berkeley BART</td>\n",
       "      <td>37.870139</td>\n",
       "      <td>-122.268422</td>\n",
       "      <td>157.0</td>\n",
       "      <td>65th St at Hollis St</td>\n",
       "      <td>37.846784</td>\n",
       "      <td>-122.291376</td>\n",
       "      <td>2717</td>\n",
       "      <td>Customer</td>\n",
       "      <td>No</td>\n",
       "      <td>NaN</td>\n",
       "    </tr>\n",
       "    <tr>\n",
       "      <th>3</th>\n",
       "      <td>44680</td>\n",
       "      <td>2019-01-31 19:46:09.7190</td>\n",
       "      <td>2019-02-01 08:10:50.3180</td>\n",
       "      <td>85.0</td>\n",
       "      <td>Church St at Duboce Ave</td>\n",
       "      <td>37.770083</td>\n",
       "      <td>-122.429156</td>\n",
       "      <td>53.0</td>\n",
       "      <td>Grove St at Divisadero</td>\n",
       "      <td>37.775946</td>\n",
       "      <td>-122.437777</td>\n",
       "      <td>4557</td>\n",
       "      <td>Customer</td>\n",
       "      <td>No</td>\n",
       "      <td>NaN</td>\n",
       "    </tr>\n",
       "    <tr>\n",
       "      <th>4</th>\n",
       "      <td>60709</td>\n",
       "      <td>2019-01-31 14:19:01.5410</td>\n",
       "      <td>2019-02-01 07:10:51.0650</td>\n",
       "      <td>16.0</td>\n",
       "      <td>Steuart St at Market St</td>\n",
       "      <td>37.794130</td>\n",
       "      <td>-122.394430</td>\n",
       "      <td>28.0</td>\n",
       "      <td>The Embarcadero at Bryant St</td>\n",
       "      <td>37.787168</td>\n",
       "      <td>-122.388098</td>\n",
       "      <td>2100</td>\n",
       "      <td>Customer</td>\n",
       "      <td>No</td>\n",
       "      <td>NaN</td>\n",
       "    </tr>\n",
       "  </tbody>\n",
       "</table>\n",
       "</div>"
      ],
      "text/plain": [
       "   duration_sec                start_time                  end_time  \\\n",
       "0         80825  2019-01-31 17:57:44.6130  2019-02-01 16:24:49.8640   \n",
       "1         65900  2019-01-31 20:58:33.8860  2019-02-01 15:16:54.1730   \n",
       "2         62633  2019-01-31 18:06:52.9240  2019-02-01 11:30:46.5300   \n",
       "3         44680  2019-01-31 19:46:09.7190  2019-02-01 08:10:50.3180   \n",
       "4         60709  2019-01-31 14:19:01.5410  2019-02-01 07:10:51.0650   \n",
       "\n",
       "   start_station_id           start_station_name  start_station_latitude  \\\n",
       "0             229.0    Foothill Blvd at 42nd Ave               37.775745   \n",
       "1               4.0  Cyril Magnin St at Ellis St               37.785881   \n",
       "2             245.0       Downtown Berkeley BART               37.870139   \n",
       "3              85.0      Church St at Duboce Ave               37.770083   \n",
       "4              16.0      Steuart St at Market St               37.794130   \n",
       "\n",
       "   start_station_longitude  end_station_id              end_station_name  \\\n",
       "0              -122.213037           196.0       Grand Ave at Perkins St   \n",
       "1              -122.408915           134.0        Valencia St at 24th St   \n",
       "2              -122.268422           157.0          65th St at Hollis St   \n",
       "3              -122.429156            53.0        Grove St at Divisadero   \n",
       "4              -122.394430            28.0  The Embarcadero at Bryant St   \n",
       "\n",
       "   end_station_latitude  end_station_longitude  bike_id   user_type  \\\n",
       "0             37.808894            -122.256460     4861  Subscriber   \n",
       "1             37.752428            -122.420628     5506  Subscriber   \n",
       "2             37.846784            -122.291376     2717    Customer   \n",
       "3             37.775946            -122.437777     4557    Customer   \n",
       "4             37.787168            -122.388098     2100    Customer   \n",
       "\n",
       "  bike_share_for_all_trip rental_access_method  \n",
       "0                      No                  NaN  \n",
       "1                      No                  NaN  \n",
       "2                      No                  NaN  \n",
       "3                      No                  NaN  \n",
       "4                      No                  NaN  "
      ]
     },
     "execution_count": 4,
     "metadata": {},
     "output_type": "execute_result"
    }
   ],
   "source": [
    "# check first 5 rows visually\n",
    "df.head()"
   ]
  },
  {
   "cell_type": "code",
   "execution_count": 5,
   "metadata": {},
   "outputs": [
    {
     "data": {
      "text/html": [
       "<div>\n",
       "<style scoped>\n",
       "    .dataframe tbody tr th:only-of-type {\n",
       "        vertical-align: middle;\n",
       "    }\n",
       "\n",
       "    .dataframe tbody tr th {\n",
       "        vertical-align: top;\n",
       "    }\n",
       "\n",
       "    .dataframe thead th {\n",
       "        text-align: right;\n",
       "    }\n",
       "</style>\n",
       "<table border=\"1\" class=\"dataframe\">\n",
       "  <thead>\n",
       "    <tr style=\"text-align: right;\">\n",
       "      <th></th>\n",
       "      <th>duration_sec</th>\n",
       "      <th>start_time</th>\n",
       "      <th>end_time</th>\n",
       "      <th>start_station_id</th>\n",
       "      <th>start_station_name</th>\n",
       "      <th>start_station_latitude</th>\n",
       "      <th>start_station_longitude</th>\n",
       "      <th>end_station_id</th>\n",
       "      <th>end_station_name</th>\n",
       "      <th>end_station_latitude</th>\n",
       "      <th>end_station_longitude</th>\n",
       "      <th>bike_id</th>\n",
       "      <th>user_type</th>\n",
       "      <th>bike_share_for_all_trip</th>\n",
       "      <th>rental_access_method</th>\n",
       "    </tr>\n",
       "  </thead>\n",
       "  <tbody>\n",
       "    <tr>\n",
       "      <th>1315360</th>\n",
       "      <td>511</td>\n",
       "      <td>2019-07-18 09:14:48.7590</td>\n",
       "      <td>2019-07-18 09:23:19.8930</td>\n",
       "      <td>285.0</td>\n",
       "      <td>Webster St at O'Farrell St</td>\n",
       "      <td>37.783521</td>\n",
       "      <td>-122.431158</td>\n",
       "      <td>58.0</td>\n",
       "      <td>Market St at 10th St</td>\n",
       "      <td>37.776619</td>\n",
       "      <td>-122.417385</td>\n",
       "      <td>2335</td>\n",
       "      <td>Subscriber</td>\n",
       "      <td>No</td>\n",
       "      <td>NaN</td>\n",
       "    </tr>\n",
       "    <tr>\n",
       "      <th>384264</th>\n",
       "      <td>2162</td>\n",
       "      <td>2019-03-30 16:50:33.3730</td>\n",
       "      <td>2019-03-30 17:26:35.4800</td>\n",
       "      <td>339.0</td>\n",
       "      <td>Jackson St at 11th St</td>\n",
       "      <td>37.800002</td>\n",
       "      <td>-122.266438</td>\n",
       "      <td>194.0</td>\n",
       "      <td>Lakeshore Ave at Trestle Glen Rd</td>\n",
       "      <td>37.811081</td>\n",
       "      <td>-122.243268</td>\n",
       "      <td>3291</td>\n",
       "      <td>Subscriber</td>\n",
       "      <td>No</td>\n",
       "      <td>NaN</td>\n",
       "    </tr>\n",
       "    <tr>\n",
       "      <th>210054</th>\n",
       "      <td>728</td>\n",
       "      <td>2019-02-26 19:50:43.3860</td>\n",
       "      <td>2019-02-26 20:02:51.9330</td>\n",
       "      <td>277.0</td>\n",
       "      <td>Morrison Ave at Julian St</td>\n",
       "      <td>37.333658</td>\n",
       "      <td>-121.908586</td>\n",
       "      <td>310.0</td>\n",
       "      <td>San Fernando St at 4th St</td>\n",
       "      <td>37.335885</td>\n",
       "      <td>-121.885660</td>\n",
       "      <td>5737</td>\n",
       "      <td>Subscriber</td>\n",
       "      <td>Yes</td>\n",
       "      <td>NaN</td>\n",
       "    </tr>\n",
       "    <tr>\n",
       "      <th>1940978</th>\n",
       "      <td>704</td>\n",
       "      <td>2019-10-30 18:50:28.5420</td>\n",
       "      <td>2019-10-30 19:02:12.7400</td>\n",
       "      <td>22.0</td>\n",
       "      <td>Howard St at Beale St</td>\n",
       "      <td>37.789756</td>\n",
       "      <td>-122.394643</td>\n",
       "      <td>30.0</td>\n",
       "      <td>San Francisco Caltrain (Townsend St at 4th St)</td>\n",
       "      <td>37.776598</td>\n",
       "      <td>-122.395282</td>\n",
       "      <td>1821</td>\n",
       "      <td>Subscriber</td>\n",
       "      <td>No</td>\n",
       "      <td>NaN</td>\n",
       "    </tr>\n",
       "    <tr>\n",
       "      <th>38521</th>\n",
       "      <td>836</td>\n",
       "      <td>2019-01-27 18:26:07.4490</td>\n",
       "      <td>2019-01-27 18:40:04.0070</td>\n",
       "      <td>154.0</td>\n",
       "      <td>Doyle St at 59th St</td>\n",
       "      <td>37.841924</td>\n",
       "      <td>-122.288045</td>\n",
       "      <td>160.0</td>\n",
       "      <td>West Oakland BART Station</td>\n",
       "      <td>37.805318</td>\n",
       "      <td>-122.294837</td>\n",
       "      <td>5072</td>\n",
       "      <td>Subscriber</td>\n",
       "      <td>No</td>\n",
       "      <td>NaN</td>\n",
       "    </tr>\n",
       "    <tr>\n",
       "      <th>1464143</th>\n",
       "      <td>204</td>\n",
       "      <td>2019-07-25 08:34:13</td>\n",
       "      <td>2019-07-25 08:37:37</td>\n",
       "      <td>NaN</td>\n",
       "      <td>NaN</td>\n",
       "      <td>37.784119</td>\n",
       "      <td>-122.408321</td>\n",
       "      <td>NaN</td>\n",
       "      <td>NaN</td>\n",
       "      <td>37.787246</td>\n",
       "      <td>-122.403390</td>\n",
       "      <td>867989</td>\n",
       "      <td>Subscriber</td>\n",
       "      <td>NaN</td>\n",
       "      <td>app</td>\n",
       "    </tr>\n",
       "    <tr>\n",
       "      <th>1422789</th>\n",
       "      <td>573</td>\n",
       "      <td>2019-07-09 17:13:27</td>\n",
       "      <td>2019-07-09 17:23:00</td>\n",
       "      <td>NaN</td>\n",
       "      <td>NaN</td>\n",
       "      <td>37.336257</td>\n",
       "      <td>-121.895249</td>\n",
       "      <td>NaN</td>\n",
       "      <td>NaN</td>\n",
       "      <td>37.340872</td>\n",
       "      <td>-121.909306</td>\n",
       "      <td>953428</td>\n",
       "      <td>Customer</td>\n",
       "      <td>NaN</td>\n",
       "      <td>app</td>\n",
       "    </tr>\n",
       "    <tr>\n",
       "      <th>1672818</th>\n",
       "      <td>1214</td>\n",
       "      <td>2019-08-07 10:52:37.8320</td>\n",
       "      <td>2019-08-07 11:12:52.1060</td>\n",
       "      <td>376.0</td>\n",
       "      <td>Illinois St at 20th St</td>\n",
       "      <td>37.760458</td>\n",
       "      <td>-122.387540</td>\n",
       "      <td>58.0</td>\n",
       "      <td>Market St at 10th St</td>\n",
       "      <td>37.776619</td>\n",
       "      <td>-122.417385</td>\n",
       "      <td>1256</td>\n",
       "      <td>Customer</td>\n",
       "      <td>No</td>\n",
       "      <td>NaN</td>\n",
       "    </tr>\n",
       "    <tr>\n",
       "      <th>868511</th>\n",
       "      <td>244</td>\n",
       "      <td>2019-04-01 09:05:39.2180</td>\n",
       "      <td>2019-04-01 09:09:44.0240</td>\n",
       "      <td>37.0</td>\n",
       "      <td>2nd St at Folsom St</td>\n",
       "      <td>37.785377</td>\n",
       "      <td>-122.396906</td>\n",
       "      <td>66.0</td>\n",
       "      <td>3rd St at Townsend St</td>\n",
       "      <td>37.778742</td>\n",
       "      <td>-122.392741</td>\n",
       "      <td>6331</td>\n",
       "      <td>Subscriber</td>\n",
       "      <td>No</td>\n",
       "      <td>NaN</td>\n",
       "    </tr>\n",
       "    <tr>\n",
       "      <th>1698371</th>\n",
       "      <td>918</td>\n",
       "      <td>2019-08-03 10:44:04.3650</td>\n",
       "      <td>2019-08-03 10:59:23.0240</td>\n",
       "      <td>401.0</td>\n",
       "      <td>Skyport Dr at Technology Dr</td>\n",
       "      <td>37.365227</td>\n",
       "      <td>-121.916815</td>\n",
       "      <td>290.0</td>\n",
       "      <td>Jackson St at N 1st St</td>\n",
       "      <td>37.347047</td>\n",
       "      <td>-121.898321</td>\n",
       "      <td>1267</td>\n",
       "      <td>Customer</td>\n",
       "      <td>No</td>\n",
       "      <td>NaN</td>\n",
       "    </tr>\n",
       "    <tr>\n",
       "      <th>60725</th>\n",
       "      <td>345</td>\n",
       "      <td>2019-01-24 16:52:09.6750</td>\n",
       "      <td>2019-01-24 16:57:55.2940</td>\n",
       "      <td>223.0</td>\n",
       "      <td>16th St Mission BART Station 2</td>\n",
       "      <td>37.764765</td>\n",
       "      <td>-122.420091</td>\n",
       "      <td>113.0</td>\n",
       "      <td>Franklin Square</td>\n",
       "      <td>37.764555</td>\n",
       "      <td>-122.410345</td>\n",
       "      <td>5055</td>\n",
       "      <td>Subscriber</td>\n",
       "      <td>No</td>\n",
       "      <td>NaN</td>\n",
       "    </tr>\n",
       "    <tr>\n",
       "      <th>1025225</th>\n",
       "      <td>1021</td>\n",
       "      <td>2019-05-05 13:44:33.0750</td>\n",
       "      <td>2019-05-05 14:01:34.8020</td>\n",
       "      <td>118.0</td>\n",
       "      <td>Eureka Valley Recreation Center</td>\n",
       "      <td>37.759177</td>\n",
       "      <td>-122.436943</td>\n",
       "      <td>21.0</td>\n",
       "      <td>Montgomery St BART Station (Market St at 2nd St)</td>\n",
       "      <td>37.789625</td>\n",
       "      <td>-122.400811</td>\n",
       "      <td>2985</td>\n",
       "      <td>Subscriber</td>\n",
       "      <td>No</td>\n",
       "      <td>NaN</td>\n",
       "    </tr>\n",
       "    <tr>\n",
       "      <th>1530877</th>\n",
       "      <td>1577</td>\n",
       "      <td>2019-08-27 19:58:12.0910</td>\n",
       "      <td>2019-08-27 20:24:29.3140</td>\n",
       "      <td>123.0</td>\n",
       "      <td>Folsom St at 19th St</td>\n",
       "      <td>37.760594</td>\n",
       "      <td>-122.414817</td>\n",
       "      <td>53.0</td>\n",
       "      <td>Grove St at Divisadero</td>\n",
       "      <td>37.775946</td>\n",
       "      <td>-122.437777</td>\n",
       "      <td>2299</td>\n",
       "      <td>Subscriber</td>\n",
       "      <td>No</td>\n",
       "      <td>NaN</td>\n",
       "    </tr>\n",
       "    <tr>\n",
       "      <th>1633355</th>\n",
       "      <td>366</td>\n",
       "      <td>2019-08-13 12:55:22.5450</td>\n",
       "      <td>2019-08-13 13:01:29.4170</td>\n",
       "      <td>178.0</td>\n",
       "      <td>Broadway at 30th St</td>\n",
       "      <td>37.819381</td>\n",
       "      <td>-122.261928</td>\n",
       "      <td>181.0</td>\n",
       "      <td>Grand Ave at Webster St</td>\n",
       "      <td>37.811377</td>\n",
       "      <td>-122.265192</td>\n",
       "      <td>2160</td>\n",
       "      <td>Subscriber</td>\n",
       "      <td>No</td>\n",
       "      <td>NaN</td>\n",
       "    </tr>\n",
       "    <tr>\n",
       "      <th>411518</th>\n",
       "      <td>655</td>\n",
       "      <td>2019-03-27 18:18:49.1720</td>\n",
       "      <td>2019-03-27 18:29:44.6110</td>\n",
       "      <td>271.0</td>\n",
       "      <td>San Pablo Park</td>\n",
       "      <td>37.855783</td>\n",
       "      <td>-122.283127</td>\n",
       "      <td>250.0</td>\n",
       "      <td>North Berkeley BART Station</td>\n",
       "      <td>37.873558</td>\n",
       "      <td>-122.283093</td>\n",
       "      <td>4664</td>\n",
       "      <td>Subscriber</td>\n",
       "      <td>No</td>\n",
       "      <td>NaN</td>\n",
       "    </tr>\n",
       "    <tr>\n",
       "      <th>1044645</th>\n",
       "      <td>378</td>\n",
       "      <td>2019-05-02 07:37:58.8670</td>\n",
       "      <td>2019-05-02 07:44:17.5600</td>\n",
       "      <td>147.0</td>\n",
       "      <td>29th St at Tiffany Ave</td>\n",
       "      <td>37.744067</td>\n",
       "      <td>-122.421472</td>\n",
       "      <td>386.0</td>\n",
       "      <td>24th St at Bartlett St</td>\n",
       "      <td>37.752105</td>\n",
       "      <td>-122.419724</td>\n",
       "      <td>507</td>\n",
       "      <td>Subscriber</td>\n",
       "      <td>No</td>\n",
       "      <td>NaN</td>\n",
       "    </tr>\n",
       "    <tr>\n",
       "      <th>1708410</th>\n",
       "      <td>303</td>\n",
       "      <td>2019-08-01 17:46:22.9520</td>\n",
       "      <td>2019-08-01 17:51:26.8490</td>\n",
       "      <td>8.0</td>\n",
       "      <td>The Embarcadero at Vallejo St</td>\n",
       "      <td>37.799953</td>\n",
       "      <td>-122.398525</td>\n",
       "      <td>23.0</td>\n",
       "      <td>The Embarcadero at Steuart St</td>\n",
       "      <td>37.791464</td>\n",
       "      <td>-122.391034</td>\n",
       "      <td>2545</td>\n",
       "      <td>Subscriber</td>\n",
       "      <td>No</td>\n",
       "      <td>NaN</td>\n",
       "    </tr>\n",
       "    <tr>\n",
       "      <th>2014332</th>\n",
       "      <td>843</td>\n",
       "      <td>2019-10-21 17:01:34.6000</td>\n",
       "      <td>2019-10-21 17:15:37.7120</td>\n",
       "      <td>21.0</td>\n",
       "      <td>Montgomery St BART Station (Market St at 2nd St)</td>\n",
       "      <td>37.789625</td>\n",
       "      <td>-122.400811</td>\n",
       "      <td>75.0</td>\n",
       "      <td>Market St at Franklin St</td>\n",
       "      <td>37.773793</td>\n",
       "      <td>-122.421239</td>\n",
       "      <td>13006</td>\n",
       "      <td>Subscriber</td>\n",
       "      <td>No</td>\n",
       "      <td>NaN</td>\n",
       "    </tr>\n",
       "    <tr>\n",
       "      <th>1003474</th>\n",
       "      <td>943</td>\n",
       "      <td>2019-05-08 17:45:48.4040</td>\n",
       "      <td>2019-05-08 18:01:31.7870</td>\n",
       "      <td>130.0</td>\n",
       "      <td>22nd St Caltrain Station</td>\n",
       "      <td>37.757288</td>\n",
       "      <td>-122.392051</td>\n",
       "      <td>144.0</td>\n",
       "      <td>Precita Park</td>\n",
       "      <td>37.747300</td>\n",
       "      <td>-122.411403</td>\n",
       "      <td>1894</td>\n",
       "      <td>Subscriber</td>\n",
       "      <td>No</td>\n",
       "      <td>NaN</td>\n",
       "    </tr>\n",
       "    <tr>\n",
       "      <th>650189</th>\n",
       "      <td>946</td>\n",
       "      <td>2019-04-28 02:41:35.4930</td>\n",
       "      <td>2019-04-28 02:57:22.2830</td>\n",
       "      <td>356.0</td>\n",
       "      <td>Valencia St at Clinton Park</td>\n",
       "      <td>37.769188</td>\n",
       "      <td>-122.422285</td>\n",
       "      <td>136.0</td>\n",
       "      <td>23rd St at San Bruno Ave</td>\n",
       "      <td>37.754436</td>\n",
       "      <td>-122.404364</td>\n",
       "      <td>1911</td>\n",
       "      <td>Customer</td>\n",
       "      <td>No</td>\n",
       "      <td>NaN</td>\n",
       "    </tr>\n",
       "    <tr>\n",
       "      <th>548032</th>\n",
       "      <td>335</td>\n",
       "      <td>2019-03-12 17:15:44.9330</td>\n",
       "      <td>2019-03-12 17:21:20.6440</td>\n",
       "      <td>15.0</td>\n",
       "      <td>San Francisco Ferry Building (Harry Bridges Pl...</td>\n",
       "      <td>37.795392</td>\n",
       "      <td>-122.394203</td>\n",
       "      <td>27.0</td>\n",
       "      <td>Beale St at Harrison St</td>\n",
       "      <td>37.788059</td>\n",
       "      <td>-122.391865</td>\n",
       "      <td>6503</td>\n",
       "      <td>Subscriber</td>\n",
       "      <td>No</td>\n",
       "      <td>NaN</td>\n",
       "    </tr>\n",
       "    <tr>\n",
       "      <th>1123689</th>\n",
       "      <td>553</td>\n",
       "      <td>2019-06-19 17:13:18.3220</td>\n",
       "      <td>2019-06-19 17:22:32.2650</td>\n",
       "      <td>76.0</td>\n",
       "      <td>McCoppin St at Valencia St</td>\n",
       "      <td>37.771662</td>\n",
       "      <td>-122.422423</td>\n",
       "      <td>61.0</td>\n",
       "      <td>Howard St at 8th St</td>\n",
       "      <td>37.776513</td>\n",
       "      <td>-122.411306</td>\n",
       "      <td>155</td>\n",
       "      <td>Subscriber</td>\n",
       "      <td>No</td>\n",
       "      <td>NaN</td>\n",
       "    </tr>\n",
       "    <tr>\n",
       "      <th>1214208</th>\n",
       "      <td>409</td>\n",
       "      <td>2019-06-05 14:49:11.9640</td>\n",
       "      <td>2019-06-05 14:56:01.2060</td>\n",
       "      <td>71.0</td>\n",
       "      <td>Broderick St at Oak St</td>\n",
       "      <td>37.773063</td>\n",
       "      <td>-122.439078</td>\n",
       "      <td>29.0</td>\n",
       "      <td>O'Farrell St at Divisadero St</td>\n",
       "      <td>37.782405</td>\n",
       "      <td>-122.439446</td>\n",
       "      <td>1661</td>\n",
       "      <td>Subscriber</td>\n",
       "      <td>No</td>\n",
       "      <td>NaN</td>\n",
       "    </tr>\n",
       "    <tr>\n",
       "      <th>1590405</th>\n",
       "      <td>493</td>\n",
       "      <td>2019-08-19 18:07:59.4970</td>\n",
       "      <td>2019-08-19 18:16:13.3150</td>\n",
       "      <td>58.0</td>\n",
       "      <td>Market St at 10th St</td>\n",
       "      <td>37.776619</td>\n",
       "      <td>-122.417385</td>\n",
       "      <td>365.0</td>\n",
       "      <td>Turk St at Fillmore St</td>\n",
       "      <td>37.780450</td>\n",
       "      <td>-122.431946</td>\n",
       "      <td>2628</td>\n",
       "      <td>Subscriber</td>\n",
       "      <td>No</td>\n",
       "      <td>NaN</td>\n",
       "    </tr>\n",
       "    <tr>\n",
       "      <th>642122</th>\n",
       "      <td>635</td>\n",
       "      <td>2019-04-29 16:56:40.9040</td>\n",
       "      <td>2019-04-29 17:07:16.6450</td>\n",
       "      <td>350.0</td>\n",
       "      <td>8th St at Brannan St</td>\n",
       "      <td>37.771431</td>\n",
       "      <td>-122.405787</td>\n",
       "      <td>76.0</td>\n",
       "      <td>McCoppin St at Valencia St</td>\n",
       "      <td>37.771662</td>\n",
       "      <td>-122.422423</td>\n",
       "      <td>3561</td>\n",
       "      <td>Subscriber</td>\n",
       "      <td>No</td>\n",
       "      <td>NaN</td>\n",
       "    </tr>\n",
       "    <tr>\n",
       "      <th>2441059</th>\n",
       "      <td>741</td>\n",
       "      <td>2019-12-09 09:07:02.5110</td>\n",
       "      <td>2019-12-09 09:19:23.6240</td>\n",
       "      <td>453.0</td>\n",
       "      <td>Brannan St at 4th St</td>\n",
       "      <td>37.777934</td>\n",
       "      <td>-122.396973</td>\n",
       "      <td>16.0</td>\n",
       "      <td>Steuart St at Market St</td>\n",
       "      <td>37.794130</td>\n",
       "      <td>-122.394430</td>\n",
       "      <td>11087</td>\n",
       "      <td>Customer</td>\n",
       "      <td>NaN</td>\n",
       "      <td>NaN</td>\n",
       "    </tr>\n",
       "    <tr>\n",
       "      <th>1219149</th>\n",
       "      <td>2184</td>\n",
       "      <td>2019-06-04 19:03:18.8380</td>\n",
       "      <td>2019-06-04 19:39:43.3600</td>\n",
       "      <td>24.0</td>\n",
       "      <td>Spear St at Folsom St</td>\n",
       "      <td>37.789677</td>\n",
       "      <td>-122.390428</td>\n",
       "      <td>119.0</td>\n",
       "      <td>18th St at Noe St</td>\n",
       "      <td>37.761047</td>\n",
       "      <td>-122.432642</td>\n",
       "      <td>779</td>\n",
       "      <td>Subscriber</td>\n",
       "      <td>No</td>\n",
       "      <td>NaN</td>\n",
       "    </tr>\n",
       "    <tr>\n",
       "      <th>2242008</th>\n",
       "      <td>1076</td>\n",
       "      <td>2019-11-17 11:07:21.5280</td>\n",
       "      <td>2019-11-17 11:25:18.1760</td>\n",
       "      <td>239.0</td>\n",
       "      <td>Bancroft Way at Telegraph Ave</td>\n",
       "      <td>37.868813</td>\n",
       "      <td>-122.258764</td>\n",
       "      <td>244.0</td>\n",
       "      <td>Shattuck Ave at Hearst Ave</td>\n",
       "      <td>37.873676</td>\n",
       "      <td>-122.268487</td>\n",
       "      <td>12010</td>\n",
       "      <td>Subscriber</td>\n",
       "      <td>No</td>\n",
       "      <td>NaN</td>\n",
       "    </tr>\n",
       "    <tr>\n",
       "      <th>1522742</th>\n",
       "      <td>1097</td>\n",
       "      <td>2019-08-28 19:36:09.7000</td>\n",
       "      <td>2019-08-28 19:54:26.7850</td>\n",
       "      <td>58.0</td>\n",
       "      <td>Market St at 10th St</td>\n",
       "      <td>37.776619</td>\n",
       "      <td>-122.417385</td>\n",
       "      <td>130.0</td>\n",
       "      <td>22nd St Caltrain Station</td>\n",
       "      <td>37.757704</td>\n",
       "      <td>-122.391885</td>\n",
       "      <td>10143</td>\n",
       "      <td>Subscriber</td>\n",
       "      <td>No</td>\n",
       "      <td>NaN</td>\n",
       "    </tr>\n",
       "    <tr>\n",
       "      <th>1266614</th>\n",
       "      <td>186</td>\n",
       "      <td>2019-07-28 12:42:41.3320</td>\n",
       "      <td>2019-07-28 12:45:47.4390</td>\n",
       "      <td>114.0</td>\n",
       "      <td>Rhode Island St at 17th St</td>\n",
       "      <td>37.764478</td>\n",
       "      <td>-122.402570</td>\n",
       "      <td>336.0</td>\n",
       "      <td>Potrero Ave and Mariposa St</td>\n",
       "      <td>37.763281</td>\n",
       "      <td>-122.407377</td>\n",
       "      <td>3326</td>\n",
       "      <td>Subscriber</td>\n",
       "      <td>No</td>\n",
       "      <td>NaN</td>\n",
       "    </tr>\n",
       "  </tbody>\n",
       "</table>\n",
       "</div>"
      ],
      "text/plain": [
       "         duration_sec                start_time                  end_time  \\\n",
       "1315360           511  2019-07-18 09:14:48.7590  2019-07-18 09:23:19.8930   \n",
       "384264           2162  2019-03-30 16:50:33.3730  2019-03-30 17:26:35.4800   \n",
       "210054            728  2019-02-26 19:50:43.3860  2019-02-26 20:02:51.9330   \n",
       "1940978           704  2019-10-30 18:50:28.5420  2019-10-30 19:02:12.7400   \n",
       "38521             836  2019-01-27 18:26:07.4490  2019-01-27 18:40:04.0070   \n",
       "1464143           204       2019-07-25 08:34:13       2019-07-25 08:37:37   \n",
       "1422789           573       2019-07-09 17:13:27       2019-07-09 17:23:00   \n",
       "1672818          1214  2019-08-07 10:52:37.8320  2019-08-07 11:12:52.1060   \n",
       "868511            244  2019-04-01 09:05:39.2180  2019-04-01 09:09:44.0240   \n",
       "1698371           918  2019-08-03 10:44:04.3650  2019-08-03 10:59:23.0240   \n",
       "60725             345  2019-01-24 16:52:09.6750  2019-01-24 16:57:55.2940   \n",
       "1025225          1021  2019-05-05 13:44:33.0750  2019-05-05 14:01:34.8020   \n",
       "1530877          1577  2019-08-27 19:58:12.0910  2019-08-27 20:24:29.3140   \n",
       "1633355           366  2019-08-13 12:55:22.5450  2019-08-13 13:01:29.4170   \n",
       "411518            655  2019-03-27 18:18:49.1720  2019-03-27 18:29:44.6110   \n",
       "1044645           378  2019-05-02 07:37:58.8670  2019-05-02 07:44:17.5600   \n",
       "1708410           303  2019-08-01 17:46:22.9520  2019-08-01 17:51:26.8490   \n",
       "2014332           843  2019-10-21 17:01:34.6000  2019-10-21 17:15:37.7120   \n",
       "1003474           943  2019-05-08 17:45:48.4040  2019-05-08 18:01:31.7870   \n",
       "650189            946  2019-04-28 02:41:35.4930  2019-04-28 02:57:22.2830   \n",
       "548032            335  2019-03-12 17:15:44.9330  2019-03-12 17:21:20.6440   \n",
       "1123689           553  2019-06-19 17:13:18.3220  2019-06-19 17:22:32.2650   \n",
       "1214208           409  2019-06-05 14:49:11.9640  2019-06-05 14:56:01.2060   \n",
       "1590405           493  2019-08-19 18:07:59.4970  2019-08-19 18:16:13.3150   \n",
       "642122            635  2019-04-29 16:56:40.9040  2019-04-29 17:07:16.6450   \n",
       "2441059           741  2019-12-09 09:07:02.5110  2019-12-09 09:19:23.6240   \n",
       "1219149          2184  2019-06-04 19:03:18.8380  2019-06-04 19:39:43.3600   \n",
       "2242008          1076  2019-11-17 11:07:21.5280  2019-11-17 11:25:18.1760   \n",
       "1522742          1097  2019-08-28 19:36:09.7000  2019-08-28 19:54:26.7850   \n",
       "1266614           186  2019-07-28 12:42:41.3320  2019-07-28 12:45:47.4390   \n",
       "\n",
       "         start_station_id                                 start_station_name  \\\n",
       "1315360             285.0                         Webster St at O'Farrell St   \n",
       "384264              339.0                              Jackson St at 11th St   \n",
       "210054              277.0                          Morrison Ave at Julian St   \n",
       "1940978              22.0                              Howard St at Beale St   \n",
       "38521               154.0                                Doyle St at 59th St   \n",
       "1464143               NaN                                                NaN   \n",
       "1422789               NaN                                                NaN   \n",
       "1672818             376.0                             Illinois St at 20th St   \n",
       "868511               37.0                                2nd St at Folsom St   \n",
       "1698371             401.0                        Skyport Dr at Technology Dr   \n",
       "60725               223.0                     16th St Mission BART Station 2   \n",
       "1025225             118.0                    Eureka Valley Recreation Center   \n",
       "1530877             123.0                               Folsom St at 19th St   \n",
       "1633355             178.0                                Broadway at 30th St   \n",
       "411518              271.0                                     San Pablo Park   \n",
       "1044645             147.0                             29th St at Tiffany Ave   \n",
       "1708410               8.0                      The Embarcadero at Vallejo St   \n",
       "2014332              21.0   Montgomery St BART Station (Market St at 2nd St)   \n",
       "1003474             130.0                           22nd St Caltrain Station   \n",
       "650189              356.0                        Valencia St at Clinton Park   \n",
       "548032               15.0  San Francisco Ferry Building (Harry Bridges Pl...   \n",
       "1123689              76.0                         McCoppin St at Valencia St   \n",
       "1214208              71.0                             Broderick St at Oak St   \n",
       "1590405              58.0                               Market St at 10th St   \n",
       "642122              350.0                               8th St at Brannan St   \n",
       "2441059             453.0                               Brannan St at 4th St   \n",
       "1219149              24.0                              Spear St at Folsom St   \n",
       "2242008             239.0                      Bancroft Way at Telegraph Ave   \n",
       "1522742              58.0                               Market St at 10th St   \n",
       "1266614             114.0                         Rhode Island St at 17th St   \n",
       "\n",
       "         start_station_latitude  start_station_longitude  end_station_id  \\\n",
       "1315360               37.783521              -122.431158            58.0   \n",
       "384264                37.800002              -122.266438           194.0   \n",
       "210054                37.333658              -121.908586           310.0   \n",
       "1940978               37.789756              -122.394643            30.0   \n",
       "38521                 37.841924              -122.288045           160.0   \n",
       "1464143               37.784119              -122.408321             NaN   \n",
       "1422789               37.336257              -121.895249             NaN   \n",
       "1672818               37.760458              -122.387540            58.0   \n",
       "868511                37.785377              -122.396906            66.0   \n",
       "1698371               37.365227              -121.916815           290.0   \n",
       "60725                 37.764765              -122.420091           113.0   \n",
       "1025225               37.759177              -122.436943            21.0   \n",
       "1530877               37.760594              -122.414817            53.0   \n",
       "1633355               37.819381              -122.261928           181.0   \n",
       "411518                37.855783              -122.283127           250.0   \n",
       "1044645               37.744067              -122.421472           386.0   \n",
       "1708410               37.799953              -122.398525            23.0   \n",
       "2014332               37.789625              -122.400811            75.0   \n",
       "1003474               37.757288              -122.392051           144.0   \n",
       "650189                37.769188              -122.422285           136.0   \n",
       "548032                37.795392              -122.394203            27.0   \n",
       "1123689               37.771662              -122.422423            61.0   \n",
       "1214208               37.773063              -122.439078            29.0   \n",
       "1590405               37.776619              -122.417385           365.0   \n",
       "642122                37.771431              -122.405787            76.0   \n",
       "2441059               37.777934              -122.396973            16.0   \n",
       "1219149               37.789677              -122.390428           119.0   \n",
       "2242008               37.868813              -122.258764           244.0   \n",
       "1522742               37.776619              -122.417385           130.0   \n",
       "1266614               37.764478              -122.402570           336.0   \n",
       "\n",
       "                                         end_station_name  \\\n",
       "1315360                              Market St at 10th St   \n",
       "384264                   Lakeshore Ave at Trestle Glen Rd   \n",
       "210054                          San Fernando St at 4th St   \n",
       "1940978    San Francisco Caltrain (Townsend St at 4th St)   \n",
       "38521                           West Oakland BART Station   \n",
       "1464143                                               NaN   \n",
       "1422789                                               NaN   \n",
       "1672818                              Market St at 10th St   \n",
       "868511                              3rd St at Townsend St   \n",
       "1698371                            Jackson St at N 1st St   \n",
       "60725                                     Franklin Square   \n",
       "1025225  Montgomery St BART Station (Market St at 2nd St)   \n",
       "1530877                            Grove St at Divisadero   \n",
       "1633355                           Grand Ave at Webster St   \n",
       "411518                        North Berkeley BART Station   \n",
       "1044645                            24th St at Bartlett St   \n",
       "1708410                     The Embarcadero at Steuart St   \n",
       "2014332                          Market St at Franklin St   \n",
       "1003474                                      Precita Park   \n",
       "650189                           23rd St at San Bruno Ave   \n",
       "548032                            Beale St at Harrison St   \n",
       "1123689                               Howard St at 8th St   \n",
       "1214208                     O'Farrell St at Divisadero St   \n",
       "1590405                            Turk St at Fillmore St   \n",
       "642122                         McCoppin St at Valencia St   \n",
       "2441059                           Steuart St at Market St   \n",
       "1219149                                 18th St at Noe St   \n",
       "2242008                        Shattuck Ave at Hearst Ave   \n",
       "1522742                          22nd St Caltrain Station   \n",
       "1266614                       Potrero Ave and Mariposa St   \n",
       "\n",
       "         end_station_latitude  end_station_longitude  bike_id   user_type  \\\n",
       "1315360             37.776619            -122.417385     2335  Subscriber   \n",
       "384264              37.811081            -122.243268     3291  Subscriber   \n",
       "210054              37.335885            -121.885660     5737  Subscriber   \n",
       "1940978             37.776598            -122.395282     1821  Subscriber   \n",
       "38521               37.805318            -122.294837     5072  Subscriber   \n",
       "1464143             37.787246            -122.403390   867989  Subscriber   \n",
       "1422789             37.340872            -121.909306   953428    Customer   \n",
       "1672818             37.776619            -122.417385     1256    Customer   \n",
       "868511              37.778742            -122.392741     6331  Subscriber   \n",
       "1698371             37.347047            -121.898321     1267    Customer   \n",
       "60725               37.764555            -122.410345     5055  Subscriber   \n",
       "1025225             37.789625            -122.400811     2985  Subscriber   \n",
       "1530877             37.775946            -122.437777     2299  Subscriber   \n",
       "1633355             37.811377            -122.265192     2160  Subscriber   \n",
       "411518              37.873558            -122.283093     4664  Subscriber   \n",
       "1044645             37.752105            -122.419724      507  Subscriber   \n",
       "1708410             37.791464            -122.391034     2545  Subscriber   \n",
       "2014332             37.773793            -122.421239    13006  Subscriber   \n",
       "1003474             37.747300            -122.411403     1894  Subscriber   \n",
       "650189              37.754436            -122.404364     1911    Customer   \n",
       "548032              37.788059            -122.391865     6503  Subscriber   \n",
       "1123689             37.776513            -122.411306      155  Subscriber   \n",
       "1214208             37.782405            -122.439446     1661  Subscriber   \n",
       "1590405             37.780450            -122.431946     2628  Subscriber   \n",
       "642122              37.771662            -122.422423     3561  Subscriber   \n",
       "2441059             37.794130            -122.394430    11087    Customer   \n",
       "1219149             37.761047            -122.432642      779  Subscriber   \n",
       "2242008             37.873676            -122.268487    12010  Subscriber   \n",
       "1522742             37.757704            -122.391885    10143  Subscriber   \n",
       "1266614             37.763281            -122.407377     3326  Subscriber   \n",
       "\n",
       "        bike_share_for_all_trip rental_access_method  \n",
       "1315360                      No                  NaN  \n",
       "384264                       No                  NaN  \n",
       "210054                      Yes                  NaN  \n",
       "1940978                      No                  NaN  \n",
       "38521                        No                  NaN  \n",
       "1464143                     NaN                  app  \n",
       "1422789                     NaN                  app  \n",
       "1672818                      No                  NaN  \n",
       "868511                       No                  NaN  \n",
       "1698371                      No                  NaN  \n",
       "60725                        No                  NaN  \n",
       "1025225                      No                  NaN  \n",
       "1530877                      No                  NaN  \n",
       "1633355                      No                  NaN  \n",
       "411518                       No                  NaN  \n",
       "1044645                      No                  NaN  \n",
       "1708410                      No                  NaN  \n",
       "2014332                      No                  NaN  \n",
       "1003474                      No                  NaN  \n",
       "650189                       No                  NaN  \n",
       "548032                       No                  NaN  \n",
       "1123689                      No                  NaN  \n",
       "1214208                      No                  NaN  \n",
       "1590405                      No                  NaN  \n",
       "642122                       No                  NaN  \n",
       "2441059                     NaN                  NaN  \n",
       "1219149                      No                  NaN  \n",
       "2242008                      No                  NaN  \n",
       "1522742                      No                  NaN  \n",
       "1266614                      No                  NaN  "
      ]
     },
     "execution_count": 5,
     "metadata": {},
     "output_type": "execute_result"
    }
   ],
   "source": [
    "# check random 30 rows \n",
    "df.sample(30)"
   ]
  },
  {
   "cell_type": "code",
   "execution_count": 6,
   "metadata": {
    "slideshow": {
     "slide_type": "subslide"
    }
   },
   "outputs": [
    {
     "name": "stdout",
     "output_type": "stream",
     "text": [
      "<class 'pandas.core.frame.DataFrame'>\n",
      "RangeIndex: 2506983 entries, 0 to 2506982\n",
      "Data columns (total 15 columns):\n",
      "duration_sec               2506983 non-null int64\n",
      "start_time                 2506983 non-null object\n",
      "end_time                   2506983 non-null object\n",
      "start_station_id           2426249 non-null float64\n",
      "start_station_name         2426850 non-null object\n",
      "start_station_latitude     2506983 non-null float64\n",
      "start_station_longitude    2506983 non-null float64\n",
      "end_station_id             2424081 non-null float64\n",
      "end_station_name           2424633 non-null object\n",
      "end_station_latitude       2506983 non-null float64\n",
      "end_station_longitude      2506983 non-null float64\n",
      "bike_id                    2506983 non-null int64\n",
      "user_type                  2506983 non-null object\n",
      "bike_share_for_all_trip    2263724 non-null object\n",
      "rental_access_method       120838 non-null object\n",
      "dtypes: float64(6), int64(2), object(7)\n",
      "memory usage: 286.9+ MB\n"
     ]
    }
   ],
   "source": [
    "# high-level overview of data shape and composition\n",
    "df.info(verbose=True,null_counts=True)"
   ]
  },
  {
   "cell_type": "code",
   "execution_count": 7,
   "metadata": {
    "slideshow": {
     "slide_type": "subslide"
    }
   },
   "outputs": [],
   "source": [
    "# i noticed rental_access_method column has high NAN values so i decided to not implement it in analysis so i will drop it.\n",
    "df.drop(columns=['rental_access_method'],inplace=True)"
   ]
  },
  {
   "cell_type": "code",
   "execution_count": 8,
   "metadata": {
    "slideshow": {
     "slide_type": "skip"
    }
   },
   "outputs": [
    {
     "name": "stdout",
     "output_type": "stream",
     "text": [
      "<class 'pandas.core.frame.DataFrame'>\n",
      "RangeIndex: 2506983 entries, 0 to 2506982\n",
      "Data columns (total 14 columns):\n",
      "duration_sec               2506983 non-null int64\n",
      "start_time                 2506983 non-null object\n",
      "end_time                   2506983 non-null object\n",
      "start_station_id           2426249 non-null float64\n",
      "start_station_name         2426850 non-null object\n",
      "start_station_latitude     2506983 non-null float64\n",
      "start_station_longitude    2506983 non-null float64\n",
      "end_station_id             2424081 non-null float64\n",
      "end_station_name           2424633 non-null object\n",
      "end_station_latitude       2506983 non-null float64\n",
      "end_station_longitude      2506983 non-null float64\n",
      "bike_id                    2506983 non-null int64\n",
      "user_type                  2506983 non-null object\n",
      "bike_share_for_all_trip    2263724 non-null object\n",
      "dtypes: float64(6), int64(2), object(6)\n",
      "memory usage: 267.8+ MB\n"
     ]
    }
   ],
   "source": [
    "# to be sure column deleted\n",
    "df.info(verbose=True,null_counts=True)"
   ]
  },
  {
   "cell_type": "code",
   "execution_count": 9,
   "metadata": {
    "slideshow": {
     "slide_type": "subslide"
    }
   },
   "outputs": [
    {
     "data": {
      "text/plain": [
       "0"
      ]
     },
     "execution_count": 9,
     "metadata": {},
     "output_type": "execute_result"
    }
   ],
   "source": [
    "# check for duplicates\n",
    "df.duplicated().sum()"
   ]
  },
  {
   "cell_type": "code",
   "execution_count": 10,
   "metadata": {},
   "outputs": [
    {
     "data": {
      "text/html": [
       "<div>\n",
       "<style scoped>\n",
       "    .dataframe tbody tr th:only-of-type {\n",
       "        vertical-align: middle;\n",
       "    }\n",
       "\n",
       "    .dataframe tbody tr th {\n",
       "        vertical-align: top;\n",
       "    }\n",
       "\n",
       "    .dataframe thead th {\n",
       "        text-align: right;\n",
       "    }\n",
       "</style>\n",
       "<table border=\"1\" class=\"dataframe\">\n",
       "  <thead>\n",
       "    <tr style=\"text-align: right;\">\n",
       "      <th></th>\n",
       "      <th>duration_sec</th>\n",
       "      <th>start_station_id</th>\n",
       "      <th>start_station_latitude</th>\n",
       "      <th>start_station_longitude</th>\n",
       "      <th>end_station_id</th>\n",
       "      <th>end_station_latitude</th>\n",
       "      <th>end_station_longitude</th>\n",
       "      <th>bike_id</th>\n",
       "    </tr>\n",
       "  </thead>\n",
       "  <tbody>\n",
       "    <tr>\n",
       "      <th>count</th>\n",
       "      <td>2.506983e+06</td>\n",
       "      <td>2.426249e+06</td>\n",
       "      <td>2.506983e+06</td>\n",
       "      <td>2.506983e+06</td>\n",
       "      <td>2.424081e+06</td>\n",
       "      <td>2.506983e+06</td>\n",
       "      <td>2.506983e+06</td>\n",
       "      <td>2.506983e+06</td>\n",
       "    </tr>\n",
       "    <tr>\n",
       "      <th>mean</th>\n",
       "      <td>8.076483e+02</td>\n",
       "      <td>1.465047e+02</td>\n",
       "      <td>3.776506e+01</td>\n",
       "      <td>-1.223499e+02</td>\n",
       "      <td>1.427044e+02</td>\n",
       "      <td>3.776422e+01</td>\n",
       "      <td>-1.223459e+02</td>\n",
       "      <td>2.789833e+04</td>\n",
       "    </tr>\n",
       "    <tr>\n",
       "      <th>std</th>\n",
       "      <td>1.974714e+03</td>\n",
       "      <td>1.223171e+02</td>\n",
       "      <td>1.363698e-01</td>\n",
       "      <td>3.089648e-01</td>\n",
       "      <td>1.214296e+02</td>\n",
       "      <td>2.392885e-01</td>\n",
       "      <td>7.080417e-01</td>\n",
       "      <td>1.146067e+05</td>\n",
       "    </tr>\n",
       "    <tr>\n",
       "      <th>min</th>\n",
       "      <td>6.000000e+01</td>\n",
       "      <td>3.000000e+00</td>\n",
       "      <td>0.000000e+00</td>\n",
       "      <td>-1.225143e+02</td>\n",
       "      <td>3.000000e+00</td>\n",
       "      <td>0.000000e+00</td>\n",
       "      <td>-1.225143e+02</td>\n",
       "      <td>4.000000e+00</td>\n",
       "    </tr>\n",
       "    <tr>\n",
       "      <th>25%</th>\n",
       "      <td>3.590000e+02</td>\n",
       "      <td>4.700000e+01</td>\n",
       "      <td>3.776931e+01</td>\n",
       "      <td>-1.224130e+02</td>\n",
       "      <td>4.300000e+01</td>\n",
       "      <td>3.777003e+01</td>\n",
       "      <td>-1.224117e+02</td>\n",
       "      <td>1.952000e+03</td>\n",
       "    </tr>\n",
       "    <tr>\n",
       "      <th>50%</th>\n",
       "      <td>5.710000e+02</td>\n",
       "      <td>1.050000e+02</td>\n",
       "      <td>3.778053e+01</td>\n",
       "      <td>-1.223983e+02</td>\n",
       "      <td>1.010000e+02</td>\n",
       "      <td>3.778076e+01</td>\n",
       "      <td>-1.223981e+02</td>\n",
       "      <td>4.420000e+03</td>\n",
       "    </tr>\n",
       "    <tr>\n",
       "      <th>75%</th>\n",
       "      <td>8.870000e+02</td>\n",
       "      <td>2.430000e+02</td>\n",
       "      <td>3.779539e+01</td>\n",
       "      <td>-1.222914e+02</td>\n",
       "      <td>2.390000e+02</td>\n",
       "      <td>3.779587e+01</td>\n",
       "      <td>-1.222934e+02</td>\n",
       "      <td>9.682000e+03</td>\n",
       "    </tr>\n",
       "    <tr>\n",
       "      <th>max</th>\n",
       "      <td>9.121100e+05</td>\n",
       "      <td>4.980000e+02</td>\n",
       "      <td>4.551000e+01</td>\n",
       "      <td>0.000000e+00</td>\n",
       "      <td>4.980000e+02</td>\n",
       "      <td>4.551000e+01</td>\n",
       "      <td>0.000000e+00</td>\n",
       "      <td>9.999410e+05</td>\n",
       "    </tr>\n",
       "  </tbody>\n",
       "</table>\n",
       "</div>"
      ],
      "text/plain": [
       "       duration_sec  start_station_id  start_station_latitude  \\\n",
       "count  2.506983e+06      2.426249e+06            2.506983e+06   \n",
       "mean   8.076483e+02      1.465047e+02            3.776506e+01   \n",
       "std    1.974714e+03      1.223171e+02            1.363698e-01   \n",
       "min    6.000000e+01      3.000000e+00            0.000000e+00   \n",
       "25%    3.590000e+02      4.700000e+01            3.776931e+01   \n",
       "50%    5.710000e+02      1.050000e+02            3.778053e+01   \n",
       "75%    8.870000e+02      2.430000e+02            3.779539e+01   \n",
       "max    9.121100e+05      4.980000e+02            4.551000e+01   \n",
       "\n",
       "       start_station_longitude  end_station_id  end_station_latitude  \\\n",
       "count             2.506983e+06    2.424081e+06          2.506983e+06   \n",
       "mean             -1.223499e+02    1.427044e+02          3.776422e+01   \n",
       "std               3.089648e-01    1.214296e+02          2.392885e-01   \n",
       "min              -1.225143e+02    3.000000e+00          0.000000e+00   \n",
       "25%              -1.224130e+02    4.300000e+01          3.777003e+01   \n",
       "50%              -1.223983e+02    1.010000e+02          3.778076e+01   \n",
       "75%              -1.222914e+02    2.390000e+02          3.779587e+01   \n",
       "max               0.000000e+00    4.980000e+02          4.551000e+01   \n",
       "\n",
       "       end_station_longitude       bike_id  \n",
       "count           2.506983e+06  2.506983e+06  \n",
       "mean           -1.223459e+02  2.789833e+04  \n",
       "std             7.080417e-01  1.146067e+05  \n",
       "min            -1.225143e+02  4.000000e+00  \n",
       "25%            -1.224117e+02  1.952000e+03  \n",
       "50%            -1.223981e+02  4.420000e+03  \n",
       "75%            -1.222934e+02  9.682000e+03  \n",
       "max             0.000000e+00  9.999410e+05  "
      ]
     },
     "execution_count": 10,
     "metadata": {},
     "output_type": "execute_result"
    }
   ],
   "source": [
    "# view descriptive statistics for the data frame\n",
    "df.describe()"
   ]
  },
  {
   "cell_type": "markdown",
   "metadata": {
    "slideshow": {
     "slide_type": "slide"
    }
   },
   "source": [
    "> # Part 3 - Cleaning Data"
   ]
  },
  {
   "cell_type": "code",
   "execution_count": 11,
   "metadata": {
    "slideshow": {
     "slide_type": "subslide"
    }
   },
   "outputs": [],
   "source": [
    "    # change the data type for start and end time to be Timestamps \n",
    "df.start_time = pd.to_datetime(df.start_time)\n",
    "df.end_time = pd.to_datetime(df.end_time)"
   ]
  },
  {
   "cell_type": "code",
   "execution_count": 12,
   "metadata": {
    "slideshow": {
     "slide_type": "subslide"
    }
   },
   "outputs": [],
   "source": [
    "# set user type and bike_share_for_all_trip to category\n",
    "df.user_type = df.user_type.astype('category')\n",
    "df.bike_share_for_all_trip = df.bike_share_for_all_trip.astype('category')"
   ]
  },
  {
   "cell_type": "code",
   "execution_count": 13,
   "metadata": {
    "slideshow": {
     "slide_type": "subslide"
    }
   },
   "outputs": [],
   "source": [
    "# set bike id, start_station_id, end_station_id to object\n",
    "df.bike_id = df.bike_id.astype(str)\n",
    "df.start_station_id = df.bike_id.astype(str)\n",
    "df.end_station_id = df.bike_id.astype(str)"
   ]
  },
  {
   "cell_type": "code",
   "execution_count": 14,
   "metadata": {
    "slideshow": {
     "slide_type": "skip"
    }
   },
   "outputs": [
    {
     "name": "stdout",
     "output_type": "stream",
     "text": [
      "<class 'pandas.core.frame.DataFrame'>\n",
      "RangeIndex: 2506983 entries, 0 to 2506982\n",
      "Data columns (total 14 columns):\n",
      "duration_sec               2506983 non-null int64\n",
      "start_time                 2506983 non-null datetime64[ns]\n",
      "end_time                   2506983 non-null datetime64[ns]\n",
      "start_station_id           2506983 non-null object\n",
      "start_station_name         2426850 non-null object\n",
      "start_station_latitude     2506983 non-null float64\n",
      "start_station_longitude    2506983 non-null float64\n",
      "end_station_id             2506983 non-null object\n",
      "end_station_name           2424633 non-null object\n",
      "end_station_latitude       2506983 non-null float64\n",
      "end_station_longitude      2506983 non-null float64\n",
      "bike_id                    2506983 non-null object\n",
      "user_type                  2506983 non-null category\n",
      "bike_share_for_all_trip    2263724 non-null category\n",
      "dtypes: category(2), datetime64[ns](2), float64(4), int64(1), object(5)\n",
      "memory usage: 234.3+ MB\n"
     ]
    }
   ],
   "source": [
    "# test\n",
    "df.info(verbose=True,null_counts=True)"
   ]
  },
  {
   "cell_type": "code",
   "execution_count": 15,
   "metadata": {
    "slideshow": {
     "slide_type": "skip"
    }
   },
   "outputs": [
    {
     "data": {
      "text/html": [
       "<div>\n",
       "<style scoped>\n",
       "    .dataframe tbody tr th:only-of-type {\n",
       "        vertical-align: middle;\n",
       "    }\n",
       "\n",
       "    .dataframe tbody tr th {\n",
       "        vertical-align: top;\n",
       "    }\n",
       "\n",
       "    .dataframe thead th {\n",
       "        text-align: right;\n",
       "    }\n",
       "</style>\n",
       "<table border=\"1\" class=\"dataframe\">\n",
       "  <thead>\n",
       "    <tr style=\"text-align: right;\">\n",
       "      <th></th>\n",
       "      <th>duration_sec</th>\n",
       "      <th>start_time</th>\n",
       "      <th>end_time</th>\n",
       "      <th>start_station_id</th>\n",
       "      <th>start_station_name</th>\n",
       "      <th>start_station_latitude</th>\n",
       "      <th>start_station_longitude</th>\n",
       "      <th>end_station_id</th>\n",
       "      <th>end_station_name</th>\n",
       "      <th>end_station_latitude</th>\n",
       "      <th>end_station_longitude</th>\n",
       "      <th>bike_id</th>\n",
       "      <th>user_type</th>\n",
       "      <th>bike_share_for_all_trip</th>\n",
       "    </tr>\n",
       "  </thead>\n",
       "  <tbody>\n",
       "    <tr>\n",
       "      <th>0</th>\n",
       "      <td>80825</td>\n",
       "      <td>2019-01-31 17:57:44.613</td>\n",
       "      <td>2019-02-01 16:24:49.864</td>\n",
       "      <td>4861</td>\n",
       "      <td>Foothill Blvd at 42nd Ave</td>\n",
       "      <td>37.775745</td>\n",
       "      <td>-122.213037</td>\n",
       "      <td>4861</td>\n",
       "      <td>Grand Ave at Perkins St</td>\n",
       "      <td>37.808894</td>\n",
       "      <td>-122.256460</td>\n",
       "      <td>4861</td>\n",
       "      <td>Subscriber</td>\n",
       "      <td>No</td>\n",
       "    </tr>\n",
       "    <tr>\n",
       "      <th>1</th>\n",
       "      <td>65900</td>\n",
       "      <td>2019-01-31 20:58:33.886</td>\n",
       "      <td>2019-02-01 15:16:54.173</td>\n",
       "      <td>5506</td>\n",
       "      <td>Cyril Magnin St at Ellis St</td>\n",
       "      <td>37.785881</td>\n",
       "      <td>-122.408915</td>\n",
       "      <td>5506</td>\n",
       "      <td>Valencia St at 24th St</td>\n",
       "      <td>37.752428</td>\n",
       "      <td>-122.420628</td>\n",
       "      <td>5506</td>\n",
       "      <td>Subscriber</td>\n",
       "      <td>No</td>\n",
       "    </tr>\n",
       "    <tr>\n",
       "      <th>2</th>\n",
       "      <td>62633</td>\n",
       "      <td>2019-01-31 18:06:52.924</td>\n",
       "      <td>2019-02-01 11:30:46.530</td>\n",
       "      <td>2717</td>\n",
       "      <td>Downtown Berkeley BART</td>\n",
       "      <td>37.870139</td>\n",
       "      <td>-122.268422</td>\n",
       "      <td>2717</td>\n",
       "      <td>65th St at Hollis St</td>\n",
       "      <td>37.846784</td>\n",
       "      <td>-122.291376</td>\n",
       "      <td>2717</td>\n",
       "      <td>Customer</td>\n",
       "      <td>No</td>\n",
       "    </tr>\n",
       "    <tr>\n",
       "      <th>3</th>\n",
       "      <td>44680</td>\n",
       "      <td>2019-01-31 19:46:09.719</td>\n",
       "      <td>2019-02-01 08:10:50.318</td>\n",
       "      <td>4557</td>\n",
       "      <td>Church St at Duboce Ave</td>\n",
       "      <td>37.770083</td>\n",
       "      <td>-122.429156</td>\n",
       "      <td>4557</td>\n",
       "      <td>Grove St at Divisadero</td>\n",
       "      <td>37.775946</td>\n",
       "      <td>-122.437777</td>\n",
       "      <td>4557</td>\n",
       "      <td>Customer</td>\n",
       "      <td>No</td>\n",
       "    </tr>\n",
       "    <tr>\n",
       "      <th>4</th>\n",
       "      <td>60709</td>\n",
       "      <td>2019-01-31 14:19:01.541</td>\n",
       "      <td>2019-02-01 07:10:51.065</td>\n",
       "      <td>2100</td>\n",
       "      <td>Steuart St at Market St</td>\n",
       "      <td>37.794130</td>\n",
       "      <td>-122.394430</td>\n",
       "      <td>2100</td>\n",
       "      <td>The Embarcadero at Bryant St</td>\n",
       "      <td>37.787168</td>\n",
       "      <td>-122.388098</td>\n",
       "      <td>2100</td>\n",
       "      <td>Customer</td>\n",
       "      <td>No</td>\n",
       "    </tr>\n",
       "  </tbody>\n",
       "</table>\n",
       "</div>"
      ],
      "text/plain": [
       "   duration_sec              start_time                end_time  \\\n",
       "0         80825 2019-01-31 17:57:44.613 2019-02-01 16:24:49.864   \n",
       "1         65900 2019-01-31 20:58:33.886 2019-02-01 15:16:54.173   \n",
       "2         62633 2019-01-31 18:06:52.924 2019-02-01 11:30:46.530   \n",
       "3         44680 2019-01-31 19:46:09.719 2019-02-01 08:10:50.318   \n",
       "4         60709 2019-01-31 14:19:01.541 2019-02-01 07:10:51.065   \n",
       "\n",
       "  start_station_id           start_station_name  start_station_latitude  \\\n",
       "0             4861    Foothill Blvd at 42nd Ave               37.775745   \n",
       "1             5506  Cyril Magnin St at Ellis St               37.785881   \n",
       "2             2717       Downtown Berkeley BART               37.870139   \n",
       "3             4557      Church St at Duboce Ave               37.770083   \n",
       "4             2100      Steuart St at Market St               37.794130   \n",
       "\n",
       "   start_station_longitude end_station_id              end_station_name  \\\n",
       "0              -122.213037           4861       Grand Ave at Perkins St   \n",
       "1              -122.408915           5506        Valencia St at 24th St   \n",
       "2              -122.268422           2717          65th St at Hollis St   \n",
       "3              -122.429156           4557        Grove St at Divisadero   \n",
       "4              -122.394430           2100  The Embarcadero at Bryant St   \n",
       "\n",
       "   end_station_latitude  end_station_longitude bike_id   user_type  \\\n",
       "0             37.808894            -122.256460    4861  Subscriber   \n",
       "1             37.752428            -122.420628    5506  Subscriber   \n",
       "2             37.846784            -122.291376    2717    Customer   \n",
       "3             37.775946            -122.437777    4557    Customer   \n",
       "4             37.787168            -122.388098    2100    Customer   \n",
       "\n",
       "  bike_share_for_all_trip  \n",
       "0                      No  \n",
       "1                      No  \n",
       "2                      No  \n",
       "3                      No  \n",
       "4                      No  "
      ]
     },
     "execution_count": 15,
     "metadata": {},
     "output_type": "execute_result"
    }
   ],
   "source": [
    "df.head()"
   ]
  },
  {
   "cell_type": "code",
   "execution_count": 16,
   "metadata": {
    "slideshow": {
     "slide_type": "skip"
    }
   },
   "outputs": [
    {
     "name": "stdout",
     "output_type": "stream",
     "text": [
      "duration_sec                    0\n",
      "start_time                      0\n",
      "end_time                        0\n",
      "start_station_id                0\n",
      "start_station_name          80133\n",
      "start_station_latitude          0\n",
      "start_station_longitude         0\n",
      "end_station_id                  0\n",
      "end_station_name            82350\n",
      "end_station_latitude            0\n",
      "end_station_longitude           0\n",
      "bike_id                         0\n",
      "user_type                       0\n",
      "bike_share_for_all_trip    243259\n",
      "dtype: int64\n"
     ]
    }
   ],
   "source": [
    "### Find Missing Values columns (features) and show Counts of NaN on that Column:\n",
    "print(df.isna().sum(axis = 0))"
   ]
  },
  {
   "cell_type": "code",
   "execution_count": 17,
   "metadata": {
    "slideshow": {
     "slide_type": "skip"
    }
   },
   "outputs": [
    {
     "data": {
      "text/html": [
       "<div>\n",
       "<style scoped>\n",
       "    .dataframe tbody tr th:only-of-type {\n",
       "        vertical-align: middle;\n",
       "    }\n",
       "\n",
       "    .dataframe tbody tr th {\n",
       "        vertical-align: top;\n",
       "    }\n",
       "\n",
       "    .dataframe thead th {\n",
       "        text-align: right;\n",
       "    }\n",
       "</style>\n",
       "<table border=\"1\" class=\"dataframe\">\n",
       "  <thead>\n",
       "    <tr style=\"text-align: right;\">\n",
       "      <th></th>\n",
       "      <th>duration_sec</th>\n",
       "      <th>start_station_latitude</th>\n",
       "      <th>start_station_longitude</th>\n",
       "      <th>end_station_latitude</th>\n",
       "      <th>end_station_longitude</th>\n",
       "    </tr>\n",
       "  </thead>\n",
       "  <tbody>\n",
       "    <tr>\n",
       "      <th>count</th>\n",
       "      <td>2.506983e+06</td>\n",
       "      <td>2.506983e+06</td>\n",
       "      <td>2.506983e+06</td>\n",
       "      <td>2.506983e+06</td>\n",
       "      <td>2.506983e+06</td>\n",
       "    </tr>\n",
       "    <tr>\n",
       "      <th>mean</th>\n",
       "      <td>8.076483e+02</td>\n",
       "      <td>3.776506e+01</td>\n",
       "      <td>-1.223499e+02</td>\n",
       "      <td>3.776422e+01</td>\n",
       "      <td>-1.223459e+02</td>\n",
       "    </tr>\n",
       "    <tr>\n",
       "      <th>std</th>\n",
       "      <td>1.974714e+03</td>\n",
       "      <td>1.363698e-01</td>\n",
       "      <td>3.089648e-01</td>\n",
       "      <td>2.392885e-01</td>\n",
       "      <td>7.080417e-01</td>\n",
       "    </tr>\n",
       "    <tr>\n",
       "      <th>min</th>\n",
       "      <td>6.000000e+01</td>\n",
       "      <td>0.000000e+00</td>\n",
       "      <td>-1.225143e+02</td>\n",
       "      <td>0.000000e+00</td>\n",
       "      <td>-1.225143e+02</td>\n",
       "    </tr>\n",
       "    <tr>\n",
       "      <th>25%</th>\n",
       "      <td>3.590000e+02</td>\n",
       "      <td>3.776931e+01</td>\n",
       "      <td>-1.224130e+02</td>\n",
       "      <td>3.777003e+01</td>\n",
       "      <td>-1.224117e+02</td>\n",
       "    </tr>\n",
       "    <tr>\n",
       "      <th>50%</th>\n",
       "      <td>5.710000e+02</td>\n",
       "      <td>3.778053e+01</td>\n",
       "      <td>-1.223983e+02</td>\n",
       "      <td>3.778076e+01</td>\n",
       "      <td>-1.223981e+02</td>\n",
       "    </tr>\n",
       "    <tr>\n",
       "      <th>75%</th>\n",
       "      <td>8.870000e+02</td>\n",
       "      <td>3.779539e+01</td>\n",
       "      <td>-1.222914e+02</td>\n",
       "      <td>3.779587e+01</td>\n",
       "      <td>-1.222934e+02</td>\n",
       "    </tr>\n",
       "    <tr>\n",
       "      <th>max</th>\n",
       "      <td>9.121100e+05</td>\n",
       "      <td>4.551000e+01</td>\n",
       "      <td>0.000000e+00</td>\n",
       "      <td>4.551000e+01</td>\n",
       "      <td>0.000000e+00</td>\n",
       "    </tr>\n",
       "  </tbody>\n",
       "</table>\n",
       "</div>"
      ],
      "text/plain": [
       "       duration_sec  start_station_latitude  start_station_longitude  \\\n",
       "count  2.506983e+06            2.506983e+06             2.506983e+06   \n",
       "mean   8.076483e+02            3.776506e+01            -1.223499e+02   \n",
       "std    1.974714e+03            1.363698e-01             3.089648e-01   \n",
       "min    6.000000e+01            0.000000e+00            -1.225143e+02   \n",
       "25%    3.590000e+02            3.776931e+01            -1.224130e+02   \n",
       "50%    5.710000e+02            3.778053e+01            -1.223983e+02   \n",
       "75%    8.870000e+02            3.779539e+01            -1.222914e+02   \n",
       "max    9.121100e+05            4.551000e+01             0.000000e+00   \n",
       "\n",
       "       end_station_latitude  end_station_longitude  \n",
       "count          2.506983e+06           2.506983e+06  \n",
       "mean           3.776422e+01          -1.223459e+02  \n",
       "std            2.392885e-01           7.080417e-01  \n",
       "min            0.000000e+00          -1.225143e+02  \n",
       "25%            3.777003e+01          -1.224117e+02  \n",
       "50%            3.778076e+01          -1.223981e+02  \n",
       "75%            3.779587e+01          -1.222934e+02  \n",
       "max            4.551000e+01           0.000000e+00  "
      ]
     },
     "execution_count": 17,
     "metadata": {},
     "output_type": "execute_result"
    }
   ],
   "source": [
    "df.describe()"
   ]
  },
  {
   "cell_type": "code",
   "execution_count": 18,
   "metadata": {},
   "outputs": [
    {
     "data": {
      "text/plain": [
       "2506983"
      ]
     },
     "execution_count": 18,
     "metadata": {},
     "output_type": "execute_result"
    }
   ],
   "source": [
    "len(df)"
   ]
  },
  {
   "cell_type": "markdown",
   "metadata": {
    "slideshow": {
     "slide_type": "slide"
    }
   },
   "source": [
    "> It's time of timing ( preparing date variables )"
   ]
  },
  {
   "cell_type": "code",
   "execution_count": 19,
   "metadata": {
    "slideshow": {
     "slide_type": "subslide"
    }
   },
   "outputs": [],
   "source": [
    "# extract start time month name\n",
    "df['start_time_month_name']=df['start_time'].dt.strftime('%B')\n",
    "\n",
    "# extract start time month number\n",
    "df['start_time_month']=df['start_time'].dt.month.astype(int)\n",
    "\n",
    "# extract start time weekdays\n",
    "df['start_time_weekday']=df['start_time'].dt.strftime('%a')\n",
    "\n",
    "# extract start time day\n",
    "df['start_time_day']=df['start_time'].dt.day.astype(int)\n",
    "\n",
    "# extract start time hour\n",
    "df['start_time_hour']=df['start_time'].dt.hour"
   ]
  },
  {
   "cell_type": "code",
   "execution_count": 20,
   "metadata": {
    "slideshow": {
     "slide_type": "skip"
    }
   },
   "outputs": [
    {
     "name": "stdout",
     "output_type": "stream",
     "text": [
      "<class 'pandas.core.frame.DataFrame'>\n",
      "RangeIndex: 2506983 entries, 0 to 2506982\n",
      "Data columns (total 19 columns):\n",
      "duration_sec               2506983 non-null int64\n",
      "start_time                 2506983 non-null datetime64[ns]\n",
      "end_time                   2506983 non-null datetime64[ns]\n",
      "start_station_id           2506983 non-null object\n",
      "start_station_name         2426850 non-null object\n",
      "start_station_latitude     2506983 non-null float64\n",
      "start_station_longitude    2506983 non-null float64\n",
      "end_station_id             2506983 non-null object\n",
      "end_station_name           2424633 non-null object\n",
      "end_station_latitude       2506983 non-null float64\n",
      "end_station_longitude      2506983 non-null float64\n",
      "bike_id                    2506983 non-null object\n",
      "user_type                  2506983 non-null category\n",
      "bike_share_for_all_trip    2263724 non-null category\n",
      "start_time_month_name      2506983 non-null object\n",
      "start_time_month           2506983 non-null int32\n",
      "start_time_weekday         2506983 non-null object\n",
      "start_time_day             2506983 non-null int32\n",
      "start_time_hour            2506983 non-null int64\n",
      "dtypes: category(2), datetime64[ns](2), float64(4), int32(2), int64(2), object(7)\n",
      "memory usage: 310.8+ MB\n"
     ]
    }
   ],
   "source": [
    "df.info(verbose=True, null_counts=True)"
   ]
  },
  {
   "cell_type": "markdown",
   "metadata": {
    "slideshow": {
     "slide_type": "slide"
    }
   },
   "source": [
    "### What is the structure of your dataset?\n",
    "\n",
    ">  there were approx. 2506983 bike rides that happen in 2019 in the San Francisco Bay Area. The dataset contained features about:\n",
    "    1- trip duration: start/end time, how long the trip took in seconds\n",
    "    2- stations: start/end station, name, geolocation (latitude/longitude)\n",
    "    3- customer data : user type \n",
    "    4- rented bikes: bike id\n",
    "    The dataset was further enhanced with features that I may find neccessary to perform interesting analysis:\n",
    "    rental time: month, day, hour of the day, weekday (both for start and end date)\n",
    "\n",
    "### What is/are the main feature(s) of interest in your dataset?\n",
    "\n",
    ">I'm most interested in figuring out when and where bikes are high in demand (during the day/weekday/month). Moreover if the service is mostly used by Subscriber or customer\n",
    "\n",
    "### What features in the dataset do you think will help support your investigation into your feature(s) of interest?\n",
    "\n",
    ">  I will depend on Categorical Variables aslo I expect that location and datetime variables will have the strongest effect on bike demand."
   ]
  },
  {
   "cell_type": "markdown",
   "metadata": {
    "slideshow": {
     "slide_type": "slide"
    }
   },
   "source": [
    "## Univariate Exploration\n",
    "\n",
    "> In this section, investigate distributions of individual variables. If\n",
    "you see unusual points or outliers, take a deeper look to clean things up\n",
    "and prepare yourself to look at relationships between variables."
   ]
  },
  {
   "cell_type": "markdown",
   "metadata": {
    "slideshow": {
     "slide_type": "slide"
    }
   },
   "source": [
    "> 1- explore time in seconds for duration of trips"
   ]
  },
  {
   "cell_type": "code",
   "execution_count": 21,
   "metadata": {
    "slideshow": {
     "slide_type": "subslide"
    }
   },
   "outputs": [
    {
     "data": {
      "text/plain": [
       "Text(0, 0.5, 'Frequency')"
      ]
     },
     "execution_count": 21,
     "metadata": {},
     "output_type": "execute_result"
    },
    {
     "data": {
      "image/png": "[encoded data removed]",
      "text/plain": [
       "<Figure size 432x288 with 1 Axes>"
      ]
     },
     "metadata": {
      "needs_background": "light"
     },
     "output_type": "display_data"
    }
   ],
   "source": [
    "binedges = np.arange(0, df['duration_sec'].max() + 100 , 100)\n",
    "plt.hist(data = df , x = 'duration_sec' , bins = binedges)\n",
    "plt.xlim(0,5000)\n",
    "plt.title('Distribution of various Trip Duration(s)')\n",
    "plt.xlabel('Duration in Seconds')\n",
    "plt.ylabel('Frequency') "
   ]
  },
  {
   "cell_type": "markdown",
   "metadata": {
    "slideshow": {
     "slide_type": "slide"
    }
   },
   "source": [
    "> Distribution of various Trip Durations is right-skewed , I will convert seconds to mins to be more understandable and i will apply a logarithmic transformation to x-axis"
   ]
  },
  {
   "cell_type": "code",
   "execution_count": 22,
   "metadata": {
    "slideshow": {
     "slide_type": "slide"
    }
   },
   "outputs": [
    {
     "data": {
      "image/png": "[encoded data removed]",
      "text/plain": [
       "<Figure size 432x288 with 1 Axes>"
      ]
     },
     "metadata": {
      "needs_background": "light"
     },
     "output_type": "display_data"
    }
   ],
   "source": [
    "# Converting the trip durations from seconds to minutes \n",
    "df['duration_min'] = df['duration_sec'] / 60\n",
    "\n",
    "binedges = 10**np.arange(0 , 3+0.1 , 0.1)\n",
    "ticks =  [ 0.1 , 0.3 , 1 , 3, 10, 30, 100, 300]\n",
    "labels = ['{}'.format(v) for v in ticks]\n",
    "plt.hist(data = df , x = 'duration_min' , bins = binedges);\n",
    "plt.xticks(ticks,labels);\n",
    "plt.title('Distribution of various Trip Duration')\n",
    "plt.xlabel('Duration in Minutes');\n",
    "plt.ylabel('Frequency')\n",
    "plt.xscale('log');"
   ]
  },
  {
   "cell_type": "markdown",
   "metadata": {
    "slideshow": {
     "slide_type": "subslide"
    }
   },
   "source": [
    "> We can now interpret from the above plot most of users prefered to rent bikes for short time ( 10 mins )"
   ]
  },
  {
   "cell_type": "markdown",
   "metadata": {
    "slideshow": {
     "slide_type": "slide"
    }
   },
   "source": [
    ">  looking at the highest common stations between users."
   ]
  },
  {
   "cell_type": "code",
   "execution_count": 23,
   "metadata": {
    "slideshow": {
     "slide_type": "subslide"
    }
   },
   "outputs": [
    {
     "data": {
      "image/png": "[encoded data removed]",
      "text/plain": [
       "<Figure size 720x360 with 1 Axes>"
      ]
     },
     "metadata": {
      "needs_background": "light"
     },
     "output_type": "display_data"
    }
   ],
   "source": [
    "base_color = sb.color_palette()[0]\n",
    "stations_count  = df['start_station_name'].value_counts()\n",
    "stations_count = stations_count[:10,]\n",
    "plt.figure(figsize=(10,5))\n",
    "sb.barplot(y=stations_count.index, x=stations_count.values, alpha=0.8,color=base_color)\n",
    "plt.title('The in top 10 Stations in the System')\n",
    "plt.xlabel('Number of Trips', fontsize=12)\n",
    "plt.ylabel('Stations', fontsize=9)\n",
    "plt.show()"
   ]
  },
  {
   "cell_type": "markdown",
   "metadata": {
    "slideshow": {
     "slide_type": "slide"
    }
   },
   "source": [
    "### Discuss the distribution(s) of your variable(s) of interest. Were there any unusual points? Did you need to perform any transformations?\n",
    "\n",
    "> I see Duration distribution after i performed transformation on second_duration variable which results the most common duration is about 10 mins.\n",
    "> \n",
    "\n",
    "### Of the features you investigated, were there any unusual distributions? Did you perform any operations on the data to tidy, adjust, or change the form of the data? If so, why did you do this?\n",
    "\n",
    "> I have created new fields such as ( timing - duration) to facilitate the conduct of mathematical calculations and understand the data in a better way.\n",
    "> I did this because i look on data from above view i found two main things :\n",
    "   1- Categorical Data\n",
    "   2- Time Data\n",
    "  i build my transformations on this view."
   ]
  },
  {
   "cell_type": "markdown",
   "metadata": {
    "slideshow": {
     "slide_type": "slide"
    }
   },
   "source": [
    "## Bivariate Exploration\n",
    "\n",
    "> In this section, investigate relationships between pairs of variables in your\n",
    "data. Make sure the variables that you cover here have been introduced in some\n",
    "fashion in the previous section (univariate exploration)."
   ]
  },
  {
   "cell_type": "markdown",
   "metadata": {
    "slideshow": {
     "slide_type": "slide"
    }
   },
   "source": [
    "\n",
    "## 1- User type split for GoBike sharing system"
   ]
  },
  {
   "cell_type": "code",
   "execution_count": 24,
   "metadata": {
    "scrolled": false,
    "slideshow": {
     "slide_type": "subslide"
    }
   },
   "outputs": [
    {
     "data": {
      "image/png": "[encoded data removed]",
      "text/plain": [
       "<Figure size 720x360 with 1 Axes>"
      ]
     },
     "metadata": {},
     "output_type": "display_data"
    }
   ],
   "source": [
    "# calculating % split for the user type\n",
    "customer = df.query('user_type == \"Customer\"')['bike_id'].count()\n",
    "subscriber = df.query('user_type == \"Subscriber\"')['bike_id'].count()\n",
    "\n",
    "customer_proportion = customer / df['bike_id'].count()\n",
    "subscriber_proportion = subscriber / df['bike_id'].count()\n",
    "plt.figure(figsize = [10, 5])\n",
    "labels = ['Customer', 'Subscriber']\n",
    "sizes = [customer_proportion, subscriber_proportion]\n",
    "colors = ['darkorange', 'steelblue']\n",
    "explode = (0, 0.1)\n",
    "\n",
    "plt.pie(sizes, explode=explode, labels=labels, colors = colors,\n",
    "        autopct='%1.1f%%', shadow=True, startangle=90)\n",
    "plt.axis('equal')\n",
    "\n",
    "plt.suptitle('User type split for GoBike sharing system', y=1.03, fontsize=14);    "
   ]
  },
  {
   "cell_type": "markdown",
   "metadata": {
    "slideshow": {
     "slide_type": "slide"
    }
   },
   "source": [
    "## 2- Trip duration (sec) boxplot per user type"
   ]
  },
  {
   "cell_type": "code",
   "execution_count": 25,
   "metadata": {
    "scrolled": true,
    "slideshow": {
     "slide_type": "subslide"
    }
   },
   "outputs": [
    {
     "data": {
      "image/png": "[encoded data removed]",
      "text/plain": [
       "<Figure size 720x360 with 2 Axes>"
      ]
     },
     "metadata": {
      "needs_background": "light"
     },
     "output_type": "display_data"
    }
   ],
   "source": [
    "# code for the (boxplot) duration (sec) distribution per user type\n",
    "\n",
    "data = df.query('duration_sec < 3600')\n",
    "g = sb.catplot(data=data, y='duration_sec', col=\"user_type\", kind='box',\n",
    "            color = base_color)\n",
    "g.set_titles(col_template = '{col_name}')\n",
    "g.set_axis_labels(\"\", \"Trip duration (sec)\")\n",
    "g.fig.suptitle('Trip duration (sec) boxplot per user type', y=1.03, fontsize=14);"
   ]
  },
  {
   "cell_type": "markdown",
   "metadata": {
    "slideshow": {
     "slide_type": "slide"
    }
   },
   "source": [
    "## 3- Average for duration mins by sharing bike or not "
   ]
  },
  {
   "cell_type": "code",
   "execution_count": 26,
   "metadata": {
    "slideshow": {
     "slide_type": "subslide"
    }
   },
   "outputs": [
    {
     "data": {
      "text/plain": [
       "<matplotlib.axes._subplots.AxesSubplot at 0x21d97939b00>"
      ]
     },
     "execution_count": 26,
     "metadata": {},
     "output_type": "execute_result"
    },
    {
     "data": {
      "image/png": "[encoded data removed]",
      "text/plain": [
       "<Figure size 432x288 with 1 Axes>"
      ]
     },
     "metadata": {},
     "output_type": "display_data"
    }
   ],
   "source": [
    "sb.set_style('darkgrid') \n",
    "  \n",
    "# plot the graph using the default estimator mean \n",
    "sb.barplot(x ='bike_share_for_all_trip', y ='duration_min', data = df, palette ='plasma') "
   ]
  },
  {
   "cell_type": "markdown",
   "metadata": {
    "slideshow": {
     "slide_type": "slide"
    }
   },
   "source": [
    "### Talk about some of the relationships you observed in this part of the investigation. How did the feature(s) of interest vary with other features in the dataset?\n",
    "\n",
    "> The main Relationship i found  :- \n",
    "   the percentage for the type of users ( customer , subscriber). \n",
    "\n",
    "### Did you observe any interesting relationships between the other features (not the main feature(s) of interest)?\n",
    "\n",
    "> There is a difference in the trip duration between customers and subscribers. Customers trips are usually longer than for subscribers"
   ]
  },
  {
   "cell_type": "markdown",
   "metadata": {
    "slideshow": {
     "slide_type": "slide"
    }
   },
   "source": [
    "## Multivariate Exploration\n",
    "\n",
    "> Create plots of three or more variables to investigate your data even\n",
    "further. Make sure that your investigations are justified, and follow from\n",
    "your work in the previous sections."
   ]
  },
  {
   "cell_type": "markdown",
   "metadata": {
    "slideshow": {
     "slide_type": "slide"
    }
   },
   "source": [
    "## 4- Usage ber Month"
   ]
  },
  {
   "cell_type": "code",
   "execution_count": 27,
   "metadata": {
    "scrolled": true,
    "slideshow": {
     "slide_type": "subslide"
    }
   },
   "outputs": [
    {
     "data": {
      "text/plain": [
       "Text(0, 0.5, 'Bike Trips')"
      ]
     },
     "execution_count": 27,
     "metadata": {},
     "output_type": "execute_result"
    },
    {
     "data": {
      "image/png": "[encoded data removed]",
      "text/plain": [
       "<Figure size 432x288 with 1 Axes>"
      ]
     },
     "metadata": {},
     "output_type": "display_data"
    }
   ],
   "source": [
    "# df.start_time_month_name = (pd.to_datetime(df.start_time_month_name, format='%d-%b'))\n",
    "#Count trips by Month \n",
    "usage_ber_month = pd.pivot_table(df,values='duration_sec', aggfunc='count',\n",
    "                            index=['start_time_month_name'],\n",
    "                            columns='user_type')\n",
    "usage_ber_month.plot(kind='bar')\n",
    "plt.xlabel('Month Name')\n",
    "plt.ylabel('Bike Trips')"
   ]
  },
  {
   "cell_type": "markdown",
   "metadata": {
    "slideshow": {
     "slide_type": "slide"
    }
   },
   "source": [
    "## 5- Hourly usage of the bike sharing system"
   ]
  },
  {
   "cell_type": "code",
   "execution_count": 28,
   "metadata": {
    "slideshow": {
     "slide_type": "subslide"
    }
   },
   "outputs": [
    {
     "data": {
      "text/plain": [
       "<matplotlib.axes._subplots.AxesSubplot at 0x21dc805c8d0>"
      ]
     },
     "execution_count": 28,
     "metadata": {},
     "output_type": "execute_result"
    },
    {
     "data": {
      "image/png": "[encoded data removed]",
      "text/plain": [
       "<Figure size 432x288 with 1 Axes>"
      ]
     },
     "metadata": {},
     "output_type": "display_data"
    }
   ],
   "source": [
    "sb.lineplot(data=df, x='start_time_hour', y='duration_min',hue='user_type')"
   ]
  },
  {
   "cell_type": "markdown",
   "metadata": {
    "slideshow": {
     "slide_type": "slide"
    }
   },
   "source": [
    "### Talk about some of the relationships you observed in this part of the investigation. Were there features that strengthened each other in terms of looking at your feature(s) of interest?\n",
    "\n",
    "> The main Relationship i was found  :- \n",
    "   1- i found the performance of every month for the company.\n",
    "   2- i found the rush hour on the company between ( 3 to 4 ) \n",
    "\n",
    "### Were there any interesting or surprising interactions between features?\n",
    "\n",
    "> in plot number 4 i found in december the performance for subscribers is near from the performance for customers ,the lowest in subscribers and highest in customers"
   ]
  },
  {
   "cell_type": "markdown",
   "metadata": {
    "slideshow": {
     "slide_type": "skip"
    }
   },
   "source": [
    "> At the end of your report, make sure that you export the notebook as an\n",
    "html file from the `File > Download as... > HTML` menu. Make sure you keep\n",
    "track of where the exported file goes, so you can put it in the same folder\n",
    "as this notebook for project submission. Also, make sure you remove all of\n",
    "the quote-formatted guide notes like this one before you finish your report!"
   ]
  },
  {
   "cell_type": "code",
   "execution_count": null,
   "metadata": {
    "slideshow": {
     "slide_type": "skip"
    }
   },
   "outputs": [],
   "source": []
  }
 ],
 "metadata": {
  "celltoolbar": "Slideshow",
  "kernelspec": {
   "display_name": "Python 3",
   "language": "python",
   "name": "python3"
  },
  "language_info": {
   "codemirror_mode": {
    "name": "ipython",
    "version": 3
   },
   "file_extension": ".py",
   "mimetype": "text/x-python",
   "name": "python",
   "nbconvert_exporter": "python",
   "pygments_lexer": "ipython3",
   "version": "3.7.3"
  }
 },
 "nbformat": 4,
 "nbformat_minor": 2
}
